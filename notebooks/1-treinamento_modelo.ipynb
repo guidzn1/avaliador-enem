{
 "cells": [
  {
   "cell_type": "code",
   "execution_count": 1,
   "id": "644afc9f",
   "metadata": {},
   "outputs": [
    {
     "name": "stdout",
     "output_type": "stream",
     "text": [
      "Bibliotecas importadas com sucesso!\n"
     ]
    }
   ],
   "source": [
    "import pandas as pd\n",
    "from sklearn.model_selection import train_test_split\n",
    "from sklearn.feature_extraction.text import TfidfVectorizer\n",
    "from sklearn.linear_model import LinearRegression\n",
    "from sklearn.metrics import mean_squared_error\n",
    "import joblib # Para salvar nosso modelo\n",
    "import os # Para criar pastas\n",
    "\n",
    "print(\"Bibliotecas importadas com sucesso!\")\n"
   ]
  },
  {
   "cell_type": "code",
   "execution_count": 2,
   "id": "72ab6dd0",
   "metadata": {},
   "outputs": [
    {
     "name": "stdout",
     "output_type": "stream",
     "text": [
      "Dados carregados. Temos 6577 redações para o estudo.\n"
     ]
    },
    {
     "data": {
      "text/html": [
       "<div>\n",
       "<style scoped>\n",
       "    .dataframe tbody tr th:only-of-type {\n",
       "        vertical-align: middle;\n",
       "    }\n",
       "\n",
       "    .dataframe tbody tr th {\n",
       "        vertical-align: top;\n",
       "    }\n",
       "\n",
       "    .dataframe thead th {\n",
       "        text-align: right;\n",
       "    }\n",
       "</style>\n",
       "<table border=\"1\" class=\"dataframe\">\n",
       "  <thead>\n",
       "    <tr style=\"text-align: right;\">\n",
       "      <th></th>\n",
       "      <th>essay</th>\n",
       "      <th>c4</th>\n",
       "    </tr>\n",
       "  </thead>\n",
       "  <tbody>\n",
       "    <tr>\n",
       "      <th>0</th>\n",
       "      <td>['Comenta-se que o ex presidente Lula ex-presi...</td>\n",
       "      <td>0</td>\n",
       "    </tr>\n",
       "    <tr>\n",
       "      <th>1</th>\n",
       "      <td>['Amazonas, sem ela ele os dias do brasil Bras...</td>\n",
       "      <td>0</td>\n",
       "    </tr>\n",
       "    <tr>\n",
       "      <th>2</th>\n",
       "      <td>['Eu acredito que os dois são muito importante...</td>\n",
       "      <td>0</td>\n",
       "    </tr>\n",
       "    <tr>\n",
       "      <th>3</th>\n",
       "      <td>['Assunto que repercute de forma constante nos...</td>\n",
       "      <td>0</td>\n",
       "    </tr>\n",
       "    <tr>\n",
       "      <th>4</th>\n",
       "      <td>['O supremo tribunal federal Supremo Tribunal ...</td>\n",
       "      <td>0</td>\n",
       "    </tr>\n",
       "  </tbody>\n",
       "</table>\n",
       "</div>"
      ],
      "text/plain": [
       "                                               essay  c4\n",
       "0  ['Comenta-se que o ex presidente Lula ex-presi...   0\n",
       "1  ['Amazonas, sem ela ele os dias do brasil Bras...   0\n",
       "2  ['Eu acredito que os dois são muito importante...   0\n",
       "3  ['Assunto que repercute de forma constante nos...   0\n",
       "4  ['O supremo tribunal federal Supremo Tribunal ...   0"
      ]
     },
     "execution_count": 2,
     "metadata": {},
     "output_type": "execute_result"
    }
   ],
   "source": [
    "# Este caminho busca o arquivo na pasta 'dados'\n",
    "caminho_dados = '../dados/extended_essay-br.csv'\n",
    "df = pd.read_csv(caminho_dados)\n",
    "\n",
    "# Vamos usar apenas as colunas de redação (essay) e da nota de coesão (c4)\n",
    "df_modelo = df[['essay', 'c4']].copy()\n",
    "df_modelo.dropna(inplace=True) # Limpa linhas que estejam vazias\n",
    "\n",
    "print(f\"Dados carregados. Temos {len(df_modelo)} redações para o estudo.\")\n",
    "df_modelo.head() # Mostra as 5 primeiras linhas para conferir"
   ]
  },
  {
   "cell_type": "code",
   "execution_count": 3,
   "id": "eca21ffb",
   "metadata": {},
   "outputs": [
    {
     "name": "stdout",
     "output_type": "stream",
     "text": [
      "Textos de treino e teste foram transformados em vetores numéricos.\n"
     ]
    }
   ],
   "source": [
    "# X é o texto da redação (a pergunta), y é a nota (a resposta certa)\n",
    "X = df_modelo['essay']\n",
    "y = df_modelo['c4']\n",
    "\n",
    "# Divide os dados: 80% para treinar (estudar) e 20% para testar (a prova)\n",
    "X_train, X_test, y_train, y_test = train_test_split(X, y, test_size=0.2, random_state=42)\n",
    "\n",
    "# O \"tradutor\" que converte texto em vetores numéricos\n",
    "vectorizer = TfidfVectorizer(max_features=5000, stop_words=['de', 'a', 'o', 'que', 'e', 'do'])\n",
    "\n",
    "# Aplica o tradutor nos textos de treino e de teste\n",
    "X_train_vect = vectorizer.fit_transform(X_train)\n",
    "X_test_vect = vectorizer.transform(X_test)\n",
    "\n",
    "print(\"Textos de treino e teste foram transformados em vetores numéricos.\")"
   ]
  },
  {
   "cell_type": "code",
   "execution_count": 4,
   "id": "175fa6f1",
   "metadata": {},
   "outputs": [
    {
     "name": "stdout",
     "output_type": "stream",
     "text": [
      "Modelo treinado com sucesso!\n"
     ]
    }
   ],
   "source": [
    "# Cria uma instância do modelo de Regressão Linear\n",
    "model = LinearRegression()\n",
    "\n",
    "# O comando .fit() é o momento do APRENDIZADO.\n",
    "# Ele encontra os padrões entre os textos em números (X_train_vect) e as notas corretas (y_train).\n",
    "model.fit(X_train_vect, y_train)\n",
    "\n",
    "print(\"Modelo treinado com sucesso!\")"
   ]
  },
  {
   "cell_type": "code",
   "execution_count": 5,
   "id": "809598ae",
   "metadata": {},
   "outputs": [
    {
     "name": "stdout",
     "output_type": "stream",
     "text": [
      "O Erro Quadrático Médio do modelo foi: 20922.65\n",
      "Modelo e vetorizador foram salvos com sucesso na pasta '../backend/'!\n"
     ]
    }
   ],
   "source": [
    "# Agora, usamos o modelo treinado para prever as notas do conjunto de teste (a prova)\n",
    "y_pred = model.predict(X_test_vect)\n",
    "\n",
    "# Avalia o quão bem o modelo se saiu\n",
    "mse = mean_squared_error(y_test, y_pred)\n",
    "print(f\"O Erro Quadrático Médio do modelo foi: {mse:.2f}\")\n",
    "\n",
    "# --- SALVANDO OS ARQUIVOS ---\n",
    "# Primeiro, define o caminho e cria a pasta 'backend' se ela não existir\n",
    "caminho_backend = '../backend/'\n",
    "if not os.path.exists(caminho_backend):\n",
    "    os.makedirs(caminho_backend)\n",
    "    print(f\"Pasta '{caminho_backend}' criada com sucesso.\")\n",
    "\n",
    "# Salva o modelo treinado e o vetorizador (nosso \"tradutor\") dentro da pasta backend\n",
    "joblib.dump(model, os.path.join(caminho_backend, 'modelo_coesao.pkl'))\n",
    "joblib.dump(vectorizer, os.path.join(caminho_backend, 'vetorizador.pkl'))\n",
    "\n",
    "print(f\"Modelo e vetorizador foram salvos com sucesso na pasta '{caminho_backend}'!\")"
   ]
  }
 ],
 "metadata": {
  "kernelspec": {
   "display_name": "venv",
   "language": "python",
   "name": "python3"
  },
  "language_info": {
   "codemirror_mode": {
    "name": "ipython",
    "version": 3
   },
   "file_extension": ".py",
   "mimetype": "text/x-python",
   "name": "python",
   "nbconvert_exporter": "python",
   "pygments_lexer": "ipython3",
   "version": "3.13.8"
  }
 },
 "nbformat": 4,
 "nbformat_minor": 5
}
